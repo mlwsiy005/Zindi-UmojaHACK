{
 "cells": [
  {
   "cell_type": "code",
   "execution_count": 75,
   "metadata": {},
   "outputs": [],
   "source": [
    "import pandas as pd\n",
    "import numpy as np\n",
    "import pylab as plt\n",
    "from sklearn.ensemble import RandomForestRegressor\n",
    "from sklearn import metrics\n",
    "from sklearn import cluster\n",
    "from sklearn import model_selection\n",
    "from sklearn.preprocessing import StandardScaler, PowerTransformer\n",
    "from sklearn.linear_model import LinearRegression\n",
    "from sklearn.compose import TransformedTargetRegressor\n",
    "from sklearn import pipeline \n",
    "from sklearn.compose import ColumnTransformer\n",
    "from sklearn.base import BaseEstimator, TransformerMixin, RegressorMixin\n",
    "from datetime import datetime\n",
    "import time \n",
    "import xgboost as xgb\n",
    "\n",
    "%matplotlib inline"
   ]
  },
  {
   "cell_type": "markdown",
   "metadata": {},
   "source": [
    "# Calculate average speed, and use that \n",
    "#class AvgSpeed(BaseEstimator, RegressorMixin):\n",
    "    def fit(self, X, y):\n",
    "        if 'Trip_distance' not in X.columns:\n",
    "            raise KeyError('X Dataframe needs to have column \"Trip_distance\"')\n",
    "        self.avg = (y / X['Trip_distance']).mean()\n",
    "        return self\n",
    "    def predict(self, X):\n",
    "        if 'Trip_distance' not in X.columns:\n",
    "            raise KeyError('X Dataframe needs to have column \"Trip_distance\"')\n",
    "        return self.avg * X['Trip_distance']"
   ]
  },
  {
   "cell_type": "markdown",
   "metadata": {},
   "source": [
    "# Load data"
   ]
  },
  {
   "cell_type": "code",
   "execution_count": 126,
   "metadata": {},
   "outputs": [
    {
     "data": {
      "text/html": [
       "<div>\n",
       "<style scoped>\n",
       "    .dataframe tbody tr th:only-of-type {\n",
       "        vertical-align: middle;\n",
       "    }\n",
       "\n",
       "    .dataframe tbody tr th {\n",
       "        vertical-align: top;\n",
       "    }\n",
       "\n",
       "    .dataframe thead th {\n",
       "        text-align: right;\n",
       "    }\n",
       "</style>\n",
       "<table border=\"1\" class=\"dataframe\">\n",
       "  <thead>\n",
       "    <tr style=\"text-align: right;\">\n",
       "      <th></th>\n",
       "      <th>ID</th>\n",
       "      <th>Timestamp</th>\n",
       "      <th>Origin_lat</th>\n",
       "      <th>Origin_lon</th>\n",
       "      <th>Destination_lat</th>\n",
       "      <th>Destination_lon</th>\n",
       "      <th>Trip_distance</th>\n",
       "      <th>ETA</th>\n",
       "      <th>date</th>\n",
       "    </tr>\n",
       "  </thead>\n",
       "  <tbody>\n",
       "    <tr>\n",
       "      <th>0</th>\n",
       "      <td>000FLWA8</td>\n",
       "      <td>2019-12-04 22:01:00</td>\n",
       "      <td>3.258</td>\n",
       "      <td>36.777</td>\n",
       "      <td>3.003</td>\n",
       "      <td>36.718</td>\n",
       "      <td>39627</td>\n",
       "      <td>2784</td>\n",
       "      <td>2019-12-04</td>\n",
       "    </tr>\n",
       "    <tr>\n",
       "      <th>1</th>\n",
       "      <td>000RGOAM</td>\n",
       "      <td>2019-12-11 00:37:00</td>\n",
       "      <td>3.087</td>\n",
       "      <td>36.707</td>\n",
       "      <td>3.081</td>\n",
       "      <td>36.727</td>\n",
       "      <td>3918</td>\n",
       "      <td>576</td>\n",
       "      <td>2019-12-11</td>\n",
       "    </tr>\n",
       "    <tr>\n",
       "      <th>2</th>\n",
       "      <td>001QSGIH</td>\n",
       "      <td>2019-11-23 22:36:00</td>\n",
       "      <td>3.144</td>\n",
       "      <td>36.739</td>\n",
       "      <td>3.088</td>\n",
       "      <td>36.742</td>\n",
       "      <td>7265</td>\n",
       "      <td>526</td>\n",
       "      <td>2019-11-23</td>\n",
       "    </tr>\n",
       "    <tr>\n",
       "      <th>3</th>\n",
       "      <td>002ACV6R</td>\n",
       "      <td>2019-12-01 07:43:00</td>\n",
       "      <td>3.239</td>\n",
       "      <td>36.784</td>\n",
       "      <td>3.054</td>\n",
       "      <td>36.763</td>\n",
       "      <td>23350</td>\n",
       "      <td>3130</td>\n",
       "      <td>2019-12-01</td>\n",
       "    </tr>\n",
       "    <tr>\n",
       "      <th>4</th>\n",
       "      <td>0039Y7A8</td>\n",
       "      <td>2019-12-17 22:30:00</td>\n",
       "      <td>2.912</td>\n",
       "      <td>36.707</td>\n",
       "      <td>3.207</td>\n",
       "      <td>36.698</td>\n",
       "      <td>36613</td>\n",
       "      <td>2138</td>\n",
       "      <td>2019-12-17</td>\n",
       "    </tr>\n",
       "  </tbody>\n",
       "</table>\n",
       "</div>"
      ],
      "text/plain": [
       "         ID           Timestamp  Origin_lat  Origin_lon  Destination_lat  \\\n",
       "0  000FLWA8 2019-12-04 22:01:00       3.258      36.777            3.003   \n",
       "1  000RGOAM 2019-12-11 00:37:00       3.087      36.707            3.081   \n",
       "2  001QSGIH 2019-11-23 22:36:00       3.144      36.739            3.088   \n",
       "3  002ACV6R 2019-12-01 07:43:00       3.239      36.784            3.054   \n",
       "4  0039Y7A8 2019-12-17 22:30:00       2.912      36.707            3.207   \n",
       "\n",
       "   Destination_lon  Trip_distance   ETA        date  \n",
       "0           36.718          39627  2784  2019-12-04  \n",
       "1           36.727           3918   576  2019-12-11  \n",
       "2           36.742           7265   526  2019-11-23  \n",
       "3           36.763          23350  3130  2019-12-01  \n",
       "4           36.698          36613  2138  2019-12-17  "
      ]
     },
     "execution_count": 126,
     "metadata": {},
     "output_type": "execute_result"
    }
   ],
   "source": [
    "# load training\n",
    "training = pd.read_csv('C:/Users/siyam/Downloads/UmojaHackYassir/UmojaHack25July/Train.csv', sep = ';')\n",
    "training['Timestamp'] = pd.to_datetime(training['Timestamp'])\n",
    "training.head()"
   ]
  },
  {
   "cell_type": "code",
   "execution_count": 127,
   "metadata": {},
   "outputs": [
    {
     "data": {
      "text/html": [
       "<div>\n",
       "<style scoped>\n",
       "    .dataframe tbody tr th:only-of-type {\n",
       "        vertical-align: middle;\n",
       "    }\n",
       "\n",
       "    .dataframe tbody tr th {\n",
       "        vertical-align: top;\n",
       "    }\n",
       "\n",
       "    .dataframe thead th {\n",
       "        text-align: right;\n",
       "    }\n",
       "</style>\n",
       "<table border=\"1\" class=\"dataframe\">\n",
       "  <thead>\n",
       "    <tr style=\"text-align: right;\">\n",
       "      <th></th>\n",
       "      <th>ID</th>\n",
       "      <th>Timestamp</th>\n",
       "      <th>Origin_lat</th>\n",
       "      <th>Origin_lon</th>\n",
       "      <th>Destination_lat</th>\n",
       "      <th>Destination_lon</th>\n",
       "      <th>Trip_distance</th>\n",
       "      <th>ETA</th>\n",
       "      <th>date</th>\n",
       "      <th>Time</th>\n",
       "    </tr>\n",
       "  </thead>\n",
       "  <tbody>\n",
       "    <tr>\n",
       "      <th>0</th>\n",
       "      <td>000FLWA8</td>\n",
       "      <td>2019-12-04 22:01:00</td>\n",
       "      <td>3.258</td>\n",
       "      <td>36.777</td>\n",
       "      <td>3.003</td>\n",
       "      <td>36.718</td>\n",
       "      <td>39627</td>\n",
       "      <td>2784</td>\n",
       "      <td>2019/12/04</td>\n",
       "      <td>79260</td>\n",
       "    </tr>\n",
       "    <tr>\n",
       "      <th>1</th>\n",
       "      <td>000RGOAM</td>\n",
       "      <td>2019-12-11 00:37:00</td>\n",
       "      <td>3.087</td>\n",
       "      <td>36.707</td>\n",
       "      <td>3.081</td>\n",
       "      <td>36.727</td>\n",
       "      <td>3918</td>\n",
       "      <td>576</td>\n",
       "      <td>2019/12/11</td>\n",
       "      <td>2220</td>\n",
       "    </tr>\n",
       "    <tr>\n",
       "      <th>2</th>\n",
       "      <td>001QSGIH</td>\n",
       "      <td>2019-11-23 22:36:00</td>\n",
       "      <td>3.144</td>\n",
       "      <td>36.739</td>\n",
       "      <td>3.088</td>\n",
       "      <td>36.742</td>\n",
       "      <td>7265</td>\n",
       "      <td>526</td>\n",
       "      <td>2019/11/23</td>\n",
       "      <td>81360</td>\n",
       "    </tr>\n",
       "    <tr>\n",
       "      <th>3</th>\n",
       "      <td>002ACV6R</td>\n",
       "      <td>2019-12-01 07:43:00</td>\n",
       "      <td>3.239</td>\n",
       "      <td>36.784</td>\n",
       "      <td>3.054</td>\n",
       "      <td>36.763</td>\n",
       "      <td>23350</td>\n",
       "      <td>3130</td>\n",
       "      <td>2019/12/01</td>\n",
       "      <td>27780</td>\n",
       "    </tr>\n",
       "    <tr>\n",
       "      <th>4</th>\n",
       "      <td>0039Y7A8</td>\n",
       "      <td>2019-12-17 22:30:00</td>\n",
       "      <td>2.912</td>\n",
       "      <td>36.707</td>\n",
       "      <td>3.207</td>\n",
       "      <td>36.698</td>\n",
       "      <td>36613</td>\n",
       "      <td>2138</td>\n",
       "      <td>2019/12/17</td>\n",
       "      <td>81000</td>\n",
       "    </tr>\n",
       "  </tbody>\n",
       "</table>\n",
       "</div>"
      ],
      "text/plain": [
       "         ID           Timestamp  Origin_lat  Origin_lon  Destination_lat  \\\n",
       "0  000FLWA8 2019-12-04 22:01:00       3.258      36.777            3.003   \n",
       "1  000RGOAM 2019-12-11 00:37:00       3.087      36.707            3.081   \n",
       "2  001QSGIH 2019-11-23 22:36:00       3.144      36.739            3.088   \n",
       "3  002ACV6R 2019-12-01 07:43:00       3.239      36.784            3.054   \n",
       "4  0039Y7A8 2019-12-17 22:30:00       2.912      36.707            3.207   \n",
       "\n",
       "   Destination_lon  Trip_distance   ETA        date   Time  \n",
       "0           36.718          39627  2784  2019/12/04  79260  \n",
       "1           36.727           3918   576  2019/12/11   2220  \n",
       "2           36.742           7265   526  2019/11/23  81360  \n",
       "3           36.763          23350  3130  2019/12/01  27780  \n",
       "4           36.698          36613  2138  2019/12/17  81000  "
      ]
     },
     "execution_count": 127,
     "metadata": {},
     "output_type": "execute_result"
    }
   ],
   "source": [
    "training1 = pd.read_csv('C:/Users/siyam/Downloads/UmojaHackYassir/UmojaHack25July/Train-IM2.csv', sep = ';')\n",
    "training1['Timestamp'] = pd.to_datetime(training1['Timestamp'])\n",
    "training1.head()"
   ]
  },
  {
   "cell_type": "markdown",
   "metadata": {},
   "source": [
    "# pre-processing"
   ]
  },
  {
   "cell_type": "code",
   "execution_count": 128,
   "metadata": {},
   "outputs": [
    {
     "data": {
      "text/plain": [
       "ID                 0\n",
       "Timestamp          0\n",
       "Origin_lat         0\n",
       "Origin_lon         0\n",
       "Destination_lat    0\n",
       "Destination_lon    0\n",
       "Trip_distance      0\n",
       "ETA                0\n",
       "date               0\n",
       "Time               0\n",
       "dtype: int64"
      ]
     },
     "execution_count": 128,
     "metadata": {},
     "output_type": "execute_result"
    }
   ],
   "source": [
    "training1.isnull().sum()"
   ]
  },
  {
   "cell_type": "code",
   "execution_count": 129,
   "metadata": {},
   "outputs": [
    {
     "data": {
      "text/html": [
       "<div>\n",
       "<style scoped>\n",
       "    .dataframe tbody tr th:only-of-type {\n",
       "        vertical-align: middle;\n",
       "    }\n",
       "\n",
       "    .dataframe tbody tr th {\n",
       "        vertical-align: top;\n",
       "    }\n",
       "\n",
       "    .dataframe thead th {\n",
       "        text-align: right;\n",
       "    }\n",
       "</style>\n",
       "<table border=\"1\" class=\"dataframe\">\n",
       "  <thead>\n",
       "    <tr style=\"text-align: right;\">\n",
       "      <th></th>\n",
       "      <th>ETA</th>\n",
       "    </tr>\n",
       "    <tr>\n",
       "      <th>ID</th>\n",
       "      <th></th>\n",
       "    </tr>\n",
       "  </thead>\n",
       "  <tbody>\n",
       "    <tr>\n",
       "      <th>000V4BQX</th>\n",
       "      <td>0</td>\n",
       "    </tr>\n",
       "    <tr>\n",
       "      <th>003WBC5J</th>\n",
       "      <td>0</td>\n",
       "    </tr>\n",
       "    <tr>\n",
       "      <th>004O4X3A</th>\n",
       "      <td>0</td>\n",
       "    </tr>\n",
       "    <tr>\n",
       "      <th>006CEI5B</th>\n",
       "      <td>0</td>\n",
       "    </tr>\n",
       "    <tr>\n",
       "      <th>009G0M2T</th>\n",
       "      <td>0</td>\n",
       "    </tr>\n",
       "  </tbody>\n",
       "</table>\n",
       "</div>"
      ],
      "text/plain": [
       "          ETA\n",
       "ID           \n",
       "000V4BQX    0\n",
       "003WBC5J    0\n",
       "004O4X3A    0\n",
       "006CEI5B    0\n",
       "009G0M2T    0"
      ]
     },
     "execution_count": 129,
     "metadata": {},
     "output_type": "execute_result"
    }
   ],
   "source": [
    "# sample set \n",
    "sample_set = pd.read_csv('C:/Users/siyam/Downloads/UmojaHackYassir/UmojaHack25July/SampleSubmission.csv').set_index('ID')\n",
    "sample_set.head()"
   ]
  },
  {
   "cell_type": "code",
   "execution_count": 130,
   "metadata": {},
   "outputs": [
    {
     "data": {
      "text/html": [
       "<div>\n",
       "<style scoped>\n",
       "    .dataframe tbody tr th:only-of-type {\n",
       "        vertical-align: middle;\n",
       "    }\n",
       "\n",
       "    .dataframe tbody tr th {\n",
       "        vertical-align: top;\n",
       "    }\n",
       "\n",
       "    .dataframe thead th {\n",
       "        text-align: right;\n",
       "    }\n",
       "</style>\n",
       "<table border=\"1\" class=\"dataframe\">\n",
       "  <thead>\n",
       "    <tr style=\"text-align: right;\">\n",
       "      <th></th>\n",
       "      <th>Timestamp</th>\n",
       "      <th>Origin_lat</th>\n",
       "      <th>Origin_lon</th>\n",
       "      <th>Destination_lat</th>\n",
       "      <th>Destination_lon</th>\n",
       "      <th>Trip_distance</th>\n",
       "    </tr>\n",
       "    <tr>\n",
       "      <th>ID</th>\n",
       "      <th></th>\n",
       "      <th></th>\n",
       "      <th></th>\n",
       "      <th></th>\n",
       "      <th></th>\n",
       "      <th></th>\n",
       "    </tr>\n",
       "  </thead>\n",
       "  <tbody>\n",
       "    <tr>\n",
       "      <th>000V4BQX</th>\n",
       "      <td>2019-12-21 05:52:37+00:00</td>\n",
       "      <td>2.981</td>\n",
       "      <td>36.688</td>\n",
       "      <td>2.978</td>\n",
       "      <td>36.754</td>\n",
       "      <td>17549</td>\n",
       "    </tr>\n",
       "    <tr>\n",
       "      <th>003WBC5J</th>\n",
       "      <td>2019-12-25 21:38:53+00:00</td>\n",
       "      <td>3.032</td>\n",
       "      <td>36.769</td>\n",
       "      <td>3.074</td>\n",
       "      <td>36.751</td>\n",
       "      <td>7532</td>\n",
       "    </tr>\n",
       "    <tr>\n",
       "      <th>004O4X3A</th>\n",
       "      <td>2019-12-29 21:30:29+00:00</td>\n",
       "      <td>3.035</td>\n",
       "      <td>36.711</td>\n",
       "      <td>3.010</td>\n",
       "      <td>36.758</td>\n",
       "      <td>10194</td>\n",
       "    </tr>\n",
       "    <tr>\n",
       "      <th>006CEI5B</th>\n",
       "      <td>2019-12-31 22:51:57+00:00</td>\n",
       "      <td>2.902</td>\n",
       "      <td>36.738</td>\n",
       "      <td>3.208</td>\n",
       "      <td>36.698</td>\n",
       "      <td>32768</td>\n",
       "    </tr>\n",
       "    <tr>\n",
       "      <th>009G0M2T</th>\n",
       "      <td>2019-12-28 21:47:22+00:00</td>\n",
       "      <td>2.860</td>\n",
       "      <td>36.692</td>\n",
       "      <td>2.828</td>\n",
       "      <td>36.696</td>\n",
       "      <td>4513</td>\n",
       "    </tr>\n",
       "  </tbody>\n",
       "</table>\n",
       "</div>"
      ],
      "text/plain": [
       "                         Timestamp  Origin_lat  Origin_lon  Destination_lat  \\\n",
       "ID                                                                            \n",
       "000V4BQX 2019-12-21 05:52:37+00:00       2.981      36.688            2.978   \n",
       "003WBC5J 2019-12-25 21:38:53+00:00       3.032      36.769            3.074   \n",
       "004O4X3A 2019-12-29 21:30:29+00:00       3.035      36.711            3.010   \n",
       "006CEI5B 2019-12-31 22:51:57+00:00       2.902      36.738            3.208   \n",
       "009G0M2T 2019-12-28 21:47:22+00:00       2.860      36.692            2.828   \n",
       "\n",
       "          Destination_lon  Trip_distance  \n",
       "ID                                        \n",
       "000V4BQX           36.754          17549  \n",
       "003WBC5J           36.751           7532  \n",
       "004O4X3A           36.758          10194  \n",
       "006CEI5B           36.698          32768  \n",
       "009G0M2T           36.696           4513  "
      ]
     },
     "execution_count": 130,
     "metadata": {},
     "output_type": "execute_result"
    }
   ],
   "source": [
    "# testing data\n",
    "testing = pd.read_csv('C:/Users/siyam/Downloads/UmojaHackYassir/UmojaHack25July/Test.csv', sep =',').set_index('ID')\n",
    "testing['Timestamp'] = pd.to_datetime(testing['Timestamp'])\n",
    "testing.head()"
   ]
  },
  {
   "cell_type": "code",
   "execution_count": 166,
   "metadata": {},
   "outputs": [
    {
     "data": {
      "text/html": [
       "<div>\n",
       "<style scoped>\n",
       "    .dataframe tbody tr th:only-of-type {\n",
       "        vertical-align: middle;\n",
       "    }\n",
       "\n",
       "    .dataframe tbody tr th {\n",
       "        vertical-align: top;\n",
       "    }\n",
       "\n",
       "    .dataframe thead th {\n",
       "        text-align: right;\n",
       "    }\n",
       "</style>\n",
       "<table border=\"1\" class=\"dataframe\">\n",
       "  <thead>\n",
       "    <tr style=\"text-align: right;\">\n",
       "      <th></th>\n",
       "      <th>ID</th>\n",
       "      <th>Timestamp</th>\n",
       "      <th>Origin_lat</th>\n",
       "      <th>Origin_lon</th>\n",
       "      <th>Destination_lat</th>\n",
       "      <th>Destination_lon</th>\n",
       "      <th>Trip_distance</th>\n",
       "      <th>date</th>\n",
       "      <th>Time</th>\n",
       "    </tr>\n",
       "  </thead>\n",
       "  <tbody>\n",
       "    <tr>\n",
       "      <th>0</th>\n",
       "      <td>000V4BQX</td>\n",
       "      <td>2019-12-21 07:52:00</td>\n",
       "      <td>2.981</td>\n",
       "      <td>36.688</td>\n",
       "      <td>2.978</td>\n",
       "      <td>36.754</td>\n",
       "      <td>17549</td>\n",
       "      <td>2019/12/21</td>\n",
       "      <td>28320</td>\n",
       "    </tr>\n",
       "    <tr>\n",
       "      <th>1</th>\n",
       "      <td>003WBC5J</td>\n",
       "      <td>2019-12-25 23:38:00</td>\n",
       "      <td>3.032</td>\n",
       "      <td>36.769</td>\n",
       "      <td>3.074</td>\n",
       "      <td>36.751</td>\n",
       "      <td>7532</td>\n",
       "      <td>2019/12/25</td>\n",
       "      <td>85080</td>\n",
       "    </tr>\n",
       "    <tr>\n",
       "      <th>2</th>\n",
       "      <td>004O4X3A</td>\n",
       "      <td>2019-12-29 23:30:00</td>\n",
       "      <td>3.035</td>\n",
       "      <td>36.711</td>\n",
       "      <td>3.010</td>\n",
       "      <td>36.758</td>\n",
       "      <td>10194</td>\n",
       "      <td>2019/12/29</td>\n",
       "      <td>84600</td>\n",
       "    </tr>\n",
       "    <tr>\n",
       "      <th>3</th>\n",
       "      <td>006CEI5B</td>\n",
       "      <td>2020-01-01 00:51:00</td>\n",
       "      <td>2.902</td>\n",
       "      <td>36.738</td>\n",
       "      <td>3.208</td>\n",
       "      <td>36.698</td>\n",
       "      <td>32768</td>\n",
       "      <td>2020/01/01</td>\n",
       "      <td>3060</td>\n",
       "    </tr>\n",
       "    <tr>\n",
       "      <th>4</th>\n",
       "      <td>009G0M2T</td>\n",
       "      <td>2019-12-28 23:47:00</td>\n",
       "      <td>2.860</td>\n",
       "      <td>36.692</td>\n",
       "      <td>2.828</td>\n",
       "      <td>36.696</td>\n",
       "      <td>4513</td>\n",
       "      <td>2019/12/28</td>\n",
       "      <td>85620</td>\n",
       "    </tr>\n",
       "  </tbody>\n",
       "</table>\n",
       "</div>"
      ],
      "text/plain": [
       "         ID           Timestamp  Origin_lat  Origin_lon  Destination_lat  \\\n",
       "0  000V4BQX 2019-12-21 07:52:00       2.981      36.688            2.978   \n",
       "1  003WBC5J 2019-12-25 23:38:00       3.032      36.769            3.074   \n",
       "2  004O4X3A 2019-12-29 23:30:00       3.035      36.711            3.010   \n",
       "3  006CEI5B 2020-01-01 00:51:00       2.902      36.738            3.208   \n",
       "4  009G0M2T 2019-12-28 23:47:00       2.860      36.692            2.828   \n",
       "\n",
       "   Destination_lon  Trip_distance        date   Time  \n",
       "0           36.754          17549  2019/12/21  28320  \n",
       "1           36.751           7532  2019/12/25  85080  \n",
       "2           36.758          10194  2019/12/29  84600  \n",
       "3           36.698          32768  2020/01/01   3060  \n",
       "4           36.696           4513  2019/12/28  85620  "
      ]
     },
     "execution_count": 166,
     "metadata": {},
     "output_type": "execute_result"
    }
   ],
   "source": [
    "# testing data\n",
    "testing1 = pd.read_csv('C:/Users/siyam/Downloads/UmojaHackYassir/UmojaHack25July/Test-IM.csv', sep =';')\n",
    "testing1['Timestamp'] = pd.to_datetime(testing1['Timestamp'])\n",
    "testing1.head()"
   ]
  },
  {
   "cell_type": "code",
   "execution_count": 132,
   "metadata": {},
   "outputs": [
    {
     "data": {
      "text/plain": [
       "Timestamp          0\n",
       "Origin_lat         0\n",
       "Origin_lon         0\n",
       "Destination_lat    0\n",
       "Destination_lon    0\n",
       "Trip_distance      0\n",
       "date               0\n",
       "Time               0\n",
       "dtype: int64"
      ]
     },
     "execution_count": 132,
     "metadata": {},
     "output_type": "execute_result"
    }
   ],
   "source": [
    "testing1.isnull().sum()"
   ]
  },
  {
   "cell_type": "code",
   "execution_count": 163,
   "metadata": {},
   "outputs": [
    {
     "data": {
      "text/html": [
       "<div>\n",
       "<style scoped>\n",
       "    .dataframe tbody tr th:only-of-type {\n",
       "        vertical-align: middle;\n",
       "    }\n",
       "\n",
       "    .dataframe tbody tr th {\n",
       "        vertical-align: top;\n",
       "    }\n",
       "\n",
       "    .dataframe thead th {\n",
       "        text-align: right;\n",
       "    }\n",
       "</style>\n",
       "<table border=\"1\" class=\"dataframe\">\n",
       "  <thead>\n",
       "    <tr style=\"text-align: right;\">\n",
       "      <th></th>\n",
       "      <th>date</th>\n",
       "      <th>dewpoint_2m_temperature</th>\n",
       "      <th>maximum_2m_air_temperature</th>\n",
       "      <th>mean_2m_air_temperature</th>\n",
       "      <th>mean_sea_level_pressure</th>\n",
       "      <th>minimum_2m_air_temperature</th>\n",
       "      <th>surface_pressure</th>\n",
       "      <th>total_precipitation</th>\n",
       "      <th>u_component_of_wind_10m</th>\n",
       "      <th>v_component_of_wind_10m</th>\n",
       "    </tr>\n",
       "  </thead>\n",
       "  <tbody>\n",
       "    <tr>\n",
       "      <th>0</th>\n",
       "      <td>2019-11-01</td>\n",
       "      <td>290.630524</td>\n",
       "      <td>296.434662</td>\n",
       "      <td>294.125061</td>\n",
       "      <td>101853.617188</td>\n",
       "      <td>292.503998</td>\n",
       "      <td>100806.351562</td>\n",
       "      <td>0.004297</td>\n",
       "      <td>3.561323</td>\n",
       "      <td>0.941695</td>\n",
       "    </tr>\n",
       "    <tr>\n",
       "      <th>1</th>\n",
       "      <td>2019-11-02</td>\n",
       "      <td>289.135284</td>\n",
       "      <td>298.432404</td>\n",
       "      <td>295.551666</td>\n",
       "      <td>101225.164062</td>\n",
       "      <td>293.337921</td>\n",
       "      <td>100187.250000</td>\n",
       "      <td>0.001767</td>\n",
       "      <td>5.318593</td>\n",
       "      <td>3.258237</td>\n",
       "    </tr>\n",
       "    <tr>\n",
       "      <th>2</th>\n",
       "      <td>2019-11-03</td>\n",
       "      <td>287.667694</td>\n",
       "      <td>296.612122</td>\n",
       "      <td>295.182831</td>\n",
       "      <td>100806.617188</td>\n",
       "      <td>293.674316</td>\n",
       "      <td>99771.414062</td>\n",
       "      <td>0.000797</td>\n",
       "      <td>8.447649</td>\n",
       "      <td>3.172982</td>\n",
       "    </tr>\n",
       "    <tr>\n",
       "      <th>3</th>\n",
       "      <td>2019-11-04</td>\n",
       "      <td>287.634644</td>\n",
       "      <td>297.173737</td>\n",
       "      <td>294.368134</td>\n",
       "      <td>101240.929688</td>\n",
       "      <td>292.376221</td>\n",
       "      <td>100200.843750</td>\n",
       "      <td>0.000393</td>\n",
       "      <td>5.991428</td>\n",
       "      <td>2.236700</td>\n",
       "    </tr>\n",
       "    <tr>\n",
       "      <th>4</th>\n",
       "      <td>2019-11-05</td>\n",
       "      <td>286.413788</td>\n",
       "      <td>294.284851</td>\n",
       "      <td>292.496979</td>\n",
       "      <td>101131.750000</td>\n",
       "      <td>289.143066</td>\n",
       "      <td>100088.500000</td>\n",
       "      <td>0.004658</td>\n",
       "      <td>6.962730</td>\n",
       "      <td>2.655364</td>\n",
       "    </tr>\n",
       "  </tbody>\n",
       "</table>\n",
       "</div>"
      ],
      "text/plain": [
       "         date  dewpoint_2m_temperature  maximum_2m_air_temperature  \\\n",
       "0  2019-11-01               290.630524                  296.434662   \n",
       "1  2019-11-02               289.135284                  298.432404   \n",
       "2  2019-11-03               287.667694                  296.612122   \n",
       "3  2019-11-04               287.634644                  297.173737   \n",
       "4  2019-11-05               286.413788                  294.284851   \n",
       "\n",
       "   mean_2m_air_temperature  mean_sea_level_pressure  \\\n",
       "0               294.125061            101853.617188   \n",
       "1               295.551666            101225.164062   \n",
       "2               295.182831            100806.617188   \n",
       "3               294.368134            101240.929688   \n",
       "4               292.496979            101131.750000   \n",
       "\n",
       "   minimum_2m_air_temperature  surface_pressure  total_precipitation  \\\n",
       "0                  292.503998     100806.351562             0.004297   \n",
       "1                  293.337921     100187.250000             0.001767   \n",
       "2                  293.674316      99771.414062             0.000797   \n",
       "3                  292.376221     100200.843750             0.000393   \n",
       "4                  289.143066     100088.500000             0.004658   \n",
       "\n",
       "   u_component_of_wind_10m  v_component_of_wind_10m  \n",
       "0                 3.561323                 0.941695  \n",
       "1                 5.318593                 3.258237  \n",
       "2                 8.447649                 3.172982  \n",
       "3                 5.991428                 2.236700  \n",
       "4                 6.962730                 2.655364  "
      ]
     },
     "execution_count": 163,
     "metadata": {},
     "output_type": "execute_result"
    }
   ],
   "source": [
    "# weather data\n",
    "weather = pd.read_csv('C:/Users/siyam/Downloads/UmojaHackYassir/UmojaHack25July/Weather.csv')\n",
    "weather.head()"
   ]
  },
  {
   "cell_type": "markdown",
   "metadata": {},
   "source": [
    "# Make train and OOT set"
   ]
  },
  {
   "cell_type": "code",
   "execution_count": 135,
   "metadata": {},
   "outputs": [],
   "source": [
    "# make sure sorted by date\n",
    "#train = training.sort_values('Timestamp')\n",
    "#train = training.drop(['date'], 1)\n",
    "#oot_df = train.drop([\"Timestamp\"])\n",
    "#oot_df = training.iloc[-25178:]\n",
    "#oot_df.shape,train.shape"
   ]
  },
  {
   "cell_type": "markdown",
   "metadata": {},
   "source": [
    "# Model fitting"
   ]
  },
  {
   "cell_type": "code",
   "execution_count": 174,
   "metadata": {},
   "outputs": [
    {
     "data": {
      "text/plain": [
       "Index(['ID', 'Timestamp', 'Origin_lat', 'Origin_lon', 'Destination_lat',\n",
       "       'Destination_lon', 'Trip_distance', 'ETA', 'date', 'Time'],\n",
       "      dtype='object')"
      ]
     },
     "execution_count": 174,
     "metadata": {},
     "output_type": "execute_result"
    }
   ],
   "source": [
    "training1.columns"
   ]
  },
  {
   "cell_type": "code",
   "execution_count": 175,
   "metadata": {},
   "outputs": [],
   "source": [
    "# Get the data\n",
    "from sklearn.model_selection import train_test_split\n",
    "y = training1['ETA']\n",
    "X = training1[['Origin_lat', 'Origin_lon', 'Destination_lat',\n",
    "       'Destination_lon', 'Trip_distance','Time']]\n",
    "\n",
    "X_train, X_test, y_train, y_test = train_test_split(X,y,test_size=0.3, random_state=42)\n"
   ]
  },
  {
   "cell_type": "code",
   "execution_count": 176,
   "metadata": {},
   "outputs": [
    {
     "data": {
      "text/plain": [
       "(83924,)"
      ]
     },
     "execution_count": 176,
     "metadata": {},
     "output_type": "execute_result"
    }
   ],
   "source": [
    "y.shape"
   ]
  },
  {
   "cell_type": "code",
   "execution_count": 177,
   "metadata": {},
   "outputs": [
    {
     "data": {
      "text/plain": [
       "(25178, 6)"
      ]
     },
     "execution_count": 177,
     "metadata": {},
     "output_type": "execute_result"
    }
   ],
   "source": [
    "X_test.shape"
   ]
  },
  {
   "cell_type": "code",
   "execution_count": 178,
   "metadata": {},
   "outputs": [],
   "source": [
    "test = testing1.drop([\"Timestamp\", \"date\"],1)"
   ]
  },
  {
   "cell_type": "markdown",
   "metadata": {},
   "source": [
    "/////////////////////////////////////////////////////////////////////////////////////////////////////////////////////////////////////////////////////////////////////////////////////////////////////////////////////////////////////////////////////////////"
   ]
  },
  {
   "cell_type": "markdown",
   "metadata": {},
   "source": [
    "### Hypertuning model"
   ]
  },
  {
   "cell_type": "code",
   "execution_count": 179,
   "metadata": {},
   "outputs": [],
   "source": [
    "params={\n",
    " \"learning_rate\"    : [0.05, 0.10, 0.15, 0.20, 0.25, 0.30,0.40] ,\n",
    " \"max_depth\"        : [ 3, 4, 5, 6, 8, 10, 12, 15,20,30,40,50],\n",
    " \"min_child_weight\" : [ 1, 3, 5, 7 ,9,10,11,12],\n",
    " \"gamma\"            : [ 0.0, 0.1, 0.2 , 0.3, 0.4,1,1.5,2],\n",
    " \"colsample_bytree\" : [ 0.1,0.2,0.3, 0.4, 0.5 , 0.7,0.8,0.9]\n",
    " \n",
    "    \n",
    "}"
   ]
  },
  {
   "cell_type": "code",
   "execution_count": 180,
   "metadata": {},
   "outputs": [],
   "source": [
    "## Hyperparameter optimization using RandomizedSearchCV\n",
    "from sklearn.model_selection import RandomizedSearchCV, GridSearchCV\n",
    "import xgboost as xgb\n",
    "import xgboost\n",
    "boost = xgb.XGBRegressor()"
   ]
  },
  {
   "cell_type": "code",
   "execution_count": 181,
   "metadata": {},
   "outputs": [],
   "source": [
    "random_search=RandomizedSearchCV(boost,param_distributions=params,n_iter=5,n_jobs=-1,cv=5,verbose=3)"
   ]
  },
  {
   "cell_type": "code",
   "execution_count": 182,
   "metadata": {},
   "outputs": [
    {
     "name": "stdout",
     "output_type": "stream",
     "text": [
      "Fitting 5 folds for each of 5 candidates, totalling 25 fits\n"
     ]
    },
    {
     "name": "stderr",
     "output_type": "stream",
     "text": [
      "[Parallel(n_jobs=-1)]: Using backend LokyBackend with 4 concurrent workers.\n",
      "[Parallel(n_jobs=-1)]: Done  25 out of  25 | elapsed:  1.0min finished\n"
     ]
    },
    {
     "data": {
      "text/plain": [
       "RandomizedSearchCV(cv=5,\n",
       "                   estimator=XGBRegressor(base_score=None, booster=None,\n",
       "                                          colsample_bylevel=None,\n",
       "                                          colsample_bynode=None,\n",
       "                                          colsample_bytree=None, gamma=None,\n",
       "                                          gpu_id=None, importance_type='gain',\n",
       "                                          interaction_constraints=None,\n",
       "                                          learning_rate=None,\n",
       "                                          max_delta_step=None, max_depth=None,\n",
       "                                          min_child_weight=None, missing=nan,\n",
       "                                          monotone_constraints=None,\n",
       "                                          n_estimators=100, n...\n",
       "                                          scale_pos_weight=None, subsample=None,\n",
       "                                          tree_method=None,\n",
       "                                          validate_parameters=None,\n",
       "                                          verbosity=None),\n",
       "                   n_iter=5, n_jobs=-1,\n",
       "                   param_distributions={'colsample_bytree': [0.1, 0.2, 0.3, 0.4,\n",
       "                                                             0.5, 0.7, 0.8,\n",
       "                                                             0.9],\n",
       "                                        'gamma': [0.0, 0.1, 0.2, 0.3, 0.4, 1,\n",
       "                                                  1.5, 2],\n",
       "                                        'learning_rate': [0.05, 0.1, 0.15, 0.2,\n",
       "                                                          0.25, 0.3, 0.4],\n",
       "                                        'max_depth': [3, 4, 5, 6, 8, 10, 12, 15,\n",
       "                                                      20, 30, 40, 50],\n",
       "                                        'min_child_weight': [1, 3, 5, 7, 9, 10,\n",
       "                                                             11, 12]},\n",
       "                   verbose=3)"
      ]
     },
     "execution_count": 182,
     "metadata": {},
     "output_type": "execute_result"
    }
   ],
   "source": [
    "random_search.fit(X_train,y_train)"
   ]
  },
  {
   "cell_type": "code",
   "execution_count": 183,
   "metadata": {},
   "outputs": [
    {
     "data": {
      "text/plain": [
       "XGBRegressor(base_score=0.5, booster='gbtree', colsample_bylevel=1,\n",
       "             colsample_bynode=1, colsample_bytree=0.7, gamma=0.0, gpu_id=-1,\n",
       "             importance_type='gain', interaction_constraints='',\n",
       "             learning_rate=0.15, max_delta_step=0, max_depth=12,\n",
       "             min_child_weight=10, missing=nan, monotone_constraints='()',\n",
       "             n_estimators=100, n_jobs=0, num_parallel_tree=1, random_state=0,\n",
       "             reg_alpha=0, reg_lambda=1, scale_pos_weight=1, subsample=1,\n",
       "             tree_method='exact', validate_parameters=1, verbosity=None)"
      ]
     },
     "execution_count": 183,
     "metadata": {},
     "output_type": "execute_result"
    }
   ],
   "source": [
    "random_search.best_estimator_"
   ]
  },
  {
   "cell_type": "markdown",
   "metadata": {},
   "source": [
    "/////////////////////////////////////////////////////////////////////////////////////////////////////////////////////////////////////////////////////////////////////////////////////////////////////////////////////////////////////////////////////////////"
   ]
  },
  {
   "cell_type": "markdown",
   "metadata": {},
   "source": [
    "### LlNEAR REGRESSION"
   ]
  },
  {
   "cell_type": "code",
   "execution_count": 26,
   "metadata": {},
   "outputs": [
    {
     "data": {
      "text/plain": [
       "LinearRegression()"
      ]
     },
     "execution_count": 26,
     "metadata": {},
     "output_type": "execute_result"
    }
   ],
   "source": [
    "# Fit model\n",
    "lm_reg = LinearRegression()\n",
    "##Fitting the model with train dataset\n",
    "lm_reg.fit(X_train, y_train)\n"
   ]
  },
  {
   "cell_type": "code",
   "execution_count": 27,
   "metadata": {},
   "outputs": [
    {
     "data": {
      "text/plain": [
       "244.97242574818063"
      ]
     },
     "execution_count": 27,
     "metadata": {},
     "output_type": "execute_result"
    }
   ],
   "source": [
    "# Getting predicions from the X_test\n",
    "pred = lm_reg.predict(X_test)\n",
    "#checking score\n",
    "from sklearn.metrics import mean_squared_error\n",
    "mean_squared_error(y_test, pred, squared=False)"
   ]
  },
  {
   "cell_type": "code",
   "execution_count": 28,
   "metadata": {},
   "outputs": [
    {
     "data": {
      "text/html": [
       "<div>\n",
       "<style scoped>\n",
       "    .dataframe tbody tr th:only-of-type {\n",
       "        vertical-align: middle;\n",
       "    }\n",
       "\n",
       "    .dataframe tbody tr th {\n",
       "        vertical-align: top;\n",
       "    }\n",
       "\n",
       "    .dataframe thead th {\n",
       "        text-align: right;\n",
       "    }\n",
       "</style>\n",
       "<table border=\"1\" class=\"dataframe\">\n",
       "  <thead>\n",
       "    <tr style=\"text-align: right;\">\n",
       "      <th></th>\n",
       "      <th>Origin_lat</th>\n",
       "      <th>Origin_lon</th>\n",
       "      <th>Destination_lat</th>\n",
       "      <th>Destination_lon</th>\n",
       "      <th>Trip_distance</th>\n",
       "      <th>ETA</th>\n",
       "    </tr>\n",
       "    <tr>\n",
       "      <th>ID</th>\n",
       "      <th></th>\n",
       "      <th></th>\n",
       "      <th></th>\n",
       "      <th></th>\n",
       "      <th></th>\n",
       "      <th></th>\n",
       "    </tr>\n",
       "  </thead>\n",
       "  <tbody>\n",
       "    <tr>\n",
       "      <th>000V4BQX</th>\n",
       "      <td>2.981</td>\n",
       "      <td>36.688</td>\n",
       "      <td>2.978</td>\n",
       "      <td>36.754</td>\n",
       "      <td>17549</td>\n",
       "      <td>1331.461013</td>\n",
       "    </tr>\n",
       "    <tr>\n",
       "      <th>003WBC5J</th>\n",
       "      <td>3.032</td>\n",
       "      <td>36.769</td>\n",
       "      <td>3.074</td>\n",
       "      <td>36.751</td>\n",
       "      <td>7532</td>\n",
       "      <td>803.947890</td>\n",
       "    </tr>\n",
       "    <tr>\n",
       "      <th>004O4X3A</th>\n",
       "      <td>3.035</td>\n",
       "      <td>36.711</td>\n",
       "      <td>3.010</td>\n",
       "      <td>36.758</td>\n",
       "      <td>10194</td>\n",
       "      <td>937.792883</td>\n",
       "    </tr>\n",
       "    <tr>\n",
       "      <th>006CEI5B</th>\n",
       "      <td>2.902</td>\n",
       "      <td>36.738</td>\n",
       "      <td>3.208</td>\n",
       "      <td>36.698</td>\n",
       "      <td>32768</td>\n",
       "      <td>2112.036476</td>\n",
       "    </tr>\n",
       "    <tr>\n",
       "      <th>009G0M2T</th>\n",
       "      <td>2.860</td>\n",
       "      <td>36.692</td>\n",
       "      <td>2.828</td>\n",
       "      <td>36.696</td>\n",
       "      <td>4513</td>\n",
       "      <td>572.838355</td>\n",
       "    </tr>\n",
       "  </tbody>\n",
       "</table>\n",
       "</div>"
      ],
      "text/plain": [
       "          Origin_lat  Origin_lon  Destination_lat  Destination_lon  \\\n",
       "ID                                                                   \n",
       "000V4BQX       2.981      36.688            2.978           36.754   \n",
       "003WBC5J       3.032      36.769            3.074           36.751   \n",
       "004O4X3A       3.035      36.711            3.010           36.758   \n",
       "006CEI5B       2.902      36.738            3.208           36.698   \n",
       "009G0M2T       2.860      36.692            2.828           36.696   \n",
       "\n",
       "          Trip_distance          ETA  \n",
       "ID                                    \n",
       "000V4BQX          17549  1331.461013  \n",
       "003WBC5J           7532   803.947890  \n",
       "004O4X3A          10194   937.792883  \n",
       "006CEI5B          32768  2112.036476  \n",
       "009G0M2T           4513   572.838355  "
      ]
     },
     "execution_count": 28,
     "metadata": {},
     "output_type": "execute_result"
    }
   ],
   "source": [
    "# run test data through\n",
    "submission = test.copy()\n",
    "submission['ETA'] = lm_reg.predict(test)\n",
    "submission.head()"
   ]
  },
  {
   "cell_type": "code",
   "execution_count": 29,
   "metadata": {},
   "outputs": [],
   "source": [
    "# save\n",
    "submission[['ETA']].to_csv('lm_submmision.csv')"
   ]
  },
  {
   "cell_type": "markdown",
   "metadata": {},
   "source": [
    "### XGBOOST"
   ]
  },
  {
   "cell_type": "code",
   "execution_count": 143,
   "metadata": {},
   "outputs": [],
   "source": [
    "import xgboost as xgb\n",
    "from tqdm import tqdm\n",
    "boost = xgb.XGBRegressor(base_score=0.5, booster='gbtree', colsample_bylevel=1,\n",
    "             colsample_bynode=1, colsample_bytree=0.7, gamma=0.0, gpu_id=-1,\n",
    "             importance_type='gain', interaction_constraints='',\n",
    "             learning_rate=0.2, max_delta_step=0, max_depth=20,\n",
    "             min_child_weight=9, monotone_constraints='()',\n",
    "             n_estimators=100, n_jobs=0, num_parallel_tree=1, random_state=0,\n",
    "             reg_alpha=0, reg_lambda=1, scale_pos_weight=1, subsample=1,\n",
    "             tree_method='exact', validate_parameters=1, verbosity=None)\n",
    "##Fitting the model with train dataset\n",
    "boost = boost.fit(X_train, y_train)"
   ]
  },
  {
   "cell_type": "markdown",
   "metadata": {},
   "source": [
    "## PREDICTIONS AND SCORE"
   ]
  },
  {
   "cell_type": "code",
   "execution_count": 144,
   "metadata": {},
   "outputs": [
    {
     "data": {
      "text/plain": [
       "137.3409561472998"
      ]
     },
     "execution_count": 144,
     "metadata": {},
     "output_type": "execute_result"
    }
   ],
   "source": [
    "# Getting predicions from the X_test\n",
    "pred0 = boost.predict(X_test)\n",
    "#checking score\n",
    "from sklearn.metrics import mean_squared_error\n",
    "mean_squared_error(y_test, pred0, squared=False)"
   ]
  },
  {
   "cell_type": "markdown",
   "metadata": {},
   "source": [
    "## SUBMISSIONS"
   ]
  },
  {
   "cell_type": "code",
   "execution_count": 150,
   "metadata": {},
   "outputs": [
    {
     "data": {
      "text/html": [
       "<div>\n",
       "<style scoped>\n",
       "    .dataframe tbody tr th:only-of-type {\n",
       "        vertical-align: middle;\n",
       "    }\n",
       "\n",
       "    .dataframe tbody tr th {\n",
       "        vertical-align: top;\n",
       "    }\n",
       "\n",
       "    .dataframe thead th {\n",
       "        text-align: right;\n",
       "    }\n",
       "</style>\n",
       "<table border=\"1\" class=\"dataframe\">\n",
       "  <thead>\n",
       "    <tr style=\"text-align: right;\">\n",
       "      <th></th>\n",
       "      <th>Origin_lat</th>\n",
       "      <th>Origin_lon</th>\n",
       "      <th>Destination_lat</th>\n",
       "      <th>Destination_lon</th>\n",
       "      <th>Trip_distance</th>\n",
       "      <th>Time</th>\n",
       "      <th>ETA</th>\n",
       "    </tr>\n",
       "    <tr>\n",
       "      <th>ID</th>\n",
       "      <th></th>\n",
       "      <th></th>\n",
       "      <th></th>\n",
       "      <th></th>\n",
       "      <th></th>\n",
       "      <th></th>\n",
       "      <th></th>\n",
       "    </tr>\n",
       "  </thead>\n",
       "  <tbody>\n",
       "    <tr>\n",
       "      <th>000V4BQX</th>\n",
       "      <td>2.981</td>\n",
       "      <td>36.688</td>\n",
       "      <td>2.978</td>\n",
       "      <td>36.754</td>\n",
       "      <td>17549</td>\n",
       "      <td>28320</td>\n",
       "      <td>1490.426758</td>\n",
       "    </tr>\n",
       "    <tr>\n",
       "      <th>003WBC5J</th>\n",
       "      <td>3.032</td>\n",
       "      <td>36.769</td>\n",
       "      <td>3.074</td>\n",
       "      <td>36.751</td>\n",
       "      <td>7532</td>\n",
       "      <td>85080</td>\n",
       "      <td>857.479919</td>\n",
       "    </tr>\n",
       "    <tr>\n",
       "      <th>004O4X3A</th>\n",
       "      <td>3.035</td>\n",
       "      <td>36.711</td>\n",
       "      <td>3.010</td>\n",
       "      <td>36.758</td>\n",
       "      <td>10194</td>\n",
       "      <td>84600</td>\n",
       "      <td>1010.636414</td>\n",
       "    </tr>\n",
       "    <tr>\n",
       "      <th>006CEI5B</th>\n",
       "      <td>2.902</td>\n",
       "      <td>36.738</td>\n",
       "      <td>3.208</td>\n",
       "      <td>36.698</td>\n",
       "      <td>32768</td>\n",
       "      <td>3060</td>\n",
       "      <td>1881.665894</td>\n",
       "    </tr>\n",
       "    <tr>\n",
       "      <th>009G0M2T</th>\n",
       "      <td>2.860</td>\n",
       "      <td>36.692</td>\n",
       "      <td>2.828</td>\n",
       "      <td>36.696</td>\n",
       "      <td>4513</td>\n",
       "      <td>85620</td>\n",
       "      <td>693.871704</td>\n",
       "    </tr>\n",
       "  </tbody>\n",
       "</table>\n",
       "</div>"
      ],
      "text/plain": [
       "          Origin_lat  Origin_lon  Destination_lat  Destination_lon  \\\n",
       "ID                                                                   \n",
       "000V4BQX       2.981      36.688            2.978           36.754   \n",
       "003WBC5J       3.032      36.769            3.074           36.751   \n",
       "004O4X3A       3.035      36.711            3.010           36.758   \n",
       "006CEI5B       2.902      36.738            3.208           36.698   \n",
       "009G0M2T       2.860      36.692            2.828           36.696   \n",
       "\n",
       "          Trip_distance   Time          ETA  \n",
       "ID                                           \n",
       "000V4BQX          17549  28320  1490.426758  \n",
       "003WBC5J           7532  85080   857.479919  \n",
       "004O4X3A          10194  84600  1010.636414  \n",
       "006CEI5B          32768   3060  1881.665894  \n",
       "009G0M2T           4513  85620   693.871704  "
      ]
     },
     "execution_count": 150,
     "metadata": {},
     "output_type": "execute_result"
    }
   ],
   "source": [
    "# run test data through\n",
    "submission0 = test.copy()\n",
    "submission0['ETA'] = boost.predict(test)\n",
    "submission0.head()"
   ]
  },
  {
   "cell_type": "code",
   "execution_count": 151,
   "metadata": {},
   "outputs": [],
   "source": [
    "# save\n",
    "submission0[['ETA']].to_csv('xgb_submmision.csv')"
   ]
  },
  {
   "cell_type": "markdown",
   "metadata": {},
   "source": [
    "/////////////////////////////////////////////////////////////////////////////////////////////////////////////////////////////////////////////////////////////////////////////////////////////////////////////////////////////////////////////////////////////"
   ]
  },
  {
   "cell_type": "markdown",
   "metadata": {},
   "source": [
    "# Merged Training with the weather dataset"
   ]
  },
  {
   "cell_type": "code",
   "execution_count": 167,
   "metadata": {},
   "outputs": [],
   "source": [
    "train_merge =  pd.merge(training, weather, on='date', how='inner')"
   ]
  },
  {
   "cell_type": "code",
   "execution_count": 168,
   "metadata": {},
   "outputs": [
    {
     "data": {
      "text/html": [
       "<div>\n",
       "<style scoped>\n",
       "    .dataframe tbody tr th:only-of-type {\n",
       "        vertical-align: middle;\n",
       "    }\n",
       "\n",
       "    .dataframe tbody tr th {\n",
       "        vertical-align: top;\n",
       "    }\n",
       "\n",
       "    .dataframe thead th {\n",
       "        text-align: right;\n",
       "    }\n",
       "</style>\n",
       "<table border=\"1\" class=\"dataframe\">\n",
       "  <thead>\n",
       "    <tr style=\"text-align: right;\">\n",
       "      <th></th>\n",
       "      <th>ID</th>\n",
       "      <th>Timestamp</th>\n",
       "      <th>Origin_lat</th>\n",
       "      <th>Origin_lon</th>\n",
       "      <th>Destination_lat</th>\n",
       "      <th>Destination_lon</th>\n",
       "      <th>Trip_distance</th>\n",
       "      <th>ETA</th>\n",
       "      <th>date</th>\n",
       "      <th>dewpoint_2m_temperature</th>\n",
       "      <th>maximum_2m_air_temperature</th>\n",
       "      <th>mean_2m_air_temperature</th>\n",
       "      <th>mean_sea_level_pressure</th>\n",
       "      <th>minimum_2m_air_temperature</th>\n",
       "      <th>surface_pressure</th>\n",
       "      <th>total_precipitation</th>\n",
       "      <th>u_component_of_wind_10m</th>\n",
       "      <th>v_component_of_wind_10m</th>\n",
       "    </tr>\n",
       "  </thead>\n",
       "  <tbody>\n",
       "    <tr>\n",
       "      <th>0</th>\n",
       "      <td>000FLWA8</td>\n",
       "      <td>2019-12-04 22:01:00</td>\n",
       "      <td>3.258</td>\n",
       "      <td>36.777</td>\n",
       "      <td>3.003</td>\n",
       "      <td>36.718</td>\n",
       "      <td>39627</td>\n",
       "      <td>2784</td>\n",
       "      <td>2019-12-04</td>\n",
       "      <td>283.047546</td>\n",
       "      <td>288.319153</td>\n",
       "      <td>286.984436</td>\n",
       "      <td>100523.0625</td>\n",
       "      <td>286.00177</td>\n",
       "      <td>99474.21875</td>\n",
       "      <td>0.00578</td>\n",
       "      <td>1.914582</td>\n",
       "      <td>2.437786</td>\n",
       "    </tr>\n",
       "    <tr>\n",
       "      <th>1</th>\n",
       "      <td>007N9ZND</td>\n",
       "      <td>2019-12-04 00:23:00</td>\n",
       "      <td>3.207</td>\n",
       "      <td>36.698</td>\n",
       "      <td>2.955</td>\n",
       "      <td>36.757</td>\n",
       "      <td>29007</td>\n",
       "      <td>2474</td>\n",
       "      <td>2019-12-04</td>\n",
       "      <td>283.047546</td>\n",
       "      <td>288.319153</td>\n",
       "      <td>286.984436</td>\n",
       "      <td>100523.0625</td>\n",
       "      <td>286.00177</td>\n",
       "      <td>99474.21875</td>\n",
       "      <td>0.00578</td>\n",
       "      <td>1.914582</td>\n",
       "      <td>2.437786</td>\n",
       "    </tr>\n",
       "    <tr>\n",
       "      <th>2</th>\n",
       "      <td>01NOTKQS</td>\n",
       "      <td>2019-12-04 22:48:00</td>\n",
       "      <td>2.906</td>\n",
       "      <td>36.710</td>\n",
       "      <td>3.049</td>\n",
       "      <td>36.750</td>\n",
       "      <td>19087</td>\n",
       "      <td>1728</td>\n",
       "      <td>2019-12-04</td>\n",
       "      <td>283.047546</td>\n",
       "      <td>288.319153</td>\n",
       "      <td>286.984436</td>\n",
       "      <td>100523.0625</td>\n",
       "      <td>286.00177</td>\n",
       "      <td>99474.21875</td>\n",
       "      <td>0.00578</td>\n",
       "      <td>1.914582</td>\n",
       "      <td>2.437786</td>\n",
       "    </tr>\n",
       "    <tr>\n",
       "      <th>3</th>\n",
       "      <td>02269DJO</td>\n",
       "      <td>2019-12-04 07:53:00</td>\n",
       "      <td>3.168</td>\n",
       "      <td>36.724</td>\n",
       "      <td>3.091</td>\n",
       "      <td>36.738</td>\n",
       "      <td>11330</td>\n",
       "      <td>929</td>\n",
       "      <td>2019-12-04</td>\n",
       "      <td>283.047546</td>\n",
       "      <td>288.319153</td>\n",
       "      <td>286.984436</td>\n",
       "      <td>100523.0625</td>\n",
       "      <td>286.00177</td>\n",
       "      <td>99474.21875</td>\n",
       "      <td>0.00578</td>\n",
       "      <td>1.914582</td>\n",
       "      <td>2.437786</td>\n",
       "    </tr>\n",
       "    <tr>\n",
       "      <th>4</th>\n",
       "      <td>029SZ5Y0</td>\n",
       "      <td>2019-12-04 00:40:00</td>\n",
       "      <td>3.003</td>\n",
       "      <td>36.718</td>\n",
       "      <td>2.982</td>\n",
       "      <td>36.695</td>\n",
       "      <td>4372</td>\n",
       "      <td>530</td>\n",
       "      <td>2019-12-04</td>\n",
       "      <td>283.047546</td>\n",
       "      <td>288.319153</td>\n",
       "      <td>286.984436</td>\n",
       "      <td>100523.0625</td>\n",
       "      <td>286.00177</td>\n",
       "      <td>99474.21875</td>\n",
       "      <td>0.00578</td>\n",
       "      <td>1.914582</td>\n",
       "      <td>2.437786</td>\n",
       "    </tr>\n",
       "  </tbody>\n",
       "</table>\n",
       "</div>"
      ],
      "text/plain": [
       "         ID           Timestamp  Origin_lat  Origin_lon  Destination_lat  \\\n",
       "0  000FLWA8 2019-12-04 22:01:00       3.258      36.777            3.003   \n",
       "1  007N9ZND 2019-12-04 00:23:00       3.207      36.698            2.955   \n",
       "2  01NOTKQS 2019-12-04 22:48:00       2.906      36.710            3.049   \n",
       "3  02269DJO 2019-12-04 07:53:00       3.168      36.724            3.091   \n",
       "4  029SZ5Y0 2019-12-04 00:40:00       3.003      36.718            2.982   \n",
       "\n",
       "   Destination_lon  Trip_distance   ETA        date  dewpoint_2m_temperature  \\\n",
       "0           36.718          39627  2784  2019-12-04               283.047546   \n",
       "1           36.757          29007  2474  2019-12-04               283.047546   \n",
       "2           36.750          19087  1728  2019-12-04               283.047546   \n",
       "3           36.738          11330   929  2019-12-04               283.047546   \n",
       "4           36.695           4372   530  2019-12-04               283.047546   \n",
       "\n",
       "   maximum_2m_air_temperature  mean_2m_air_temperature  \\\n",
       "0                  288.319153               286.984436   \n",
       "1                  288.319153               286.984436   \n",
       "2                  288.319153               286.984436   \n",
       "3                  288.319153               286.984436   \n",
       "4                  288.319153               286.984436   \n",
       "\n",
       "   mean_sea_level_pressure  minimum_2m_air_temperature  surface_pressure  \\\n",
       "0              100523.0625                   286.00177       99474.21875   \n",
       "1              100523.0625                   286.00177       99474.21875   \n",
       "2              100523.0625                   286.00177       99474.21875   \n",
       "3              100523.0625                   286.00177       99474.21875   \n",
       "4              100523.0625                   286.00177       99474.21875   \n",
       "\n",
       "   total_precipitation  u_component_of_wind_10m  v_component_of_wind_10m  \n",
       "0              0.00578                 1.914582                 2.437786  \n",
       "1              0.00578                 1.914582                 2.437786  \n",
       "2              0.00578                 1.914582                 2.437786  \n",
       "3              0.00578                 1.914582                 2.437786  \n",
       "4              0.00578                 1.914582                 2.437786  "
      ]
     },
     "execution_count": 168,
     "metadata": {},
     "output_type": "execute_result"
    }
   ],
   "source": [
    "train_merge.head()"
   ]
  },
  {
   "cell_type": "markdown",
   "metadata": {},
   "source": [
    "# Merge test with the weather data"
   ]
  },
  {
   "cell_type": "code",
   "execution_count": 169,
   "metadata": {},
   "outputs": [
    {
     "data": {
      "text/html": [
       "<div>\n",
       "<style scoped>\n",
       "    .dataframe tbody tr th:only-of-type {\n",
       "        vertical-align: middle;\n",
       "    }\n",
       "\n",
       "    .dataframe tbody tr th {\n",
       "        vertical-align: top;\n",
       "    }\n",
       "\n",
       "    .dataframe thead th {\n",
       "        text-align: right;\n",
       "    }\n",
       "</style>\n",
       "<table border=\"1\" class=\"dataframe\">\n",
       "  <thead>\n",
       "    <tr style=\"text-align: right;\">\n",
       "      <th></th>\n",
       "      <th>ID</th>\n",
       "      <th>Timestamp</th>\n",
       "      <th>Origin_lat</th>\n",
       "      <th>Origin_lon</th>\n",
       "      <th>Destination_lat</th>\n",
       "      <th>Destination_lon</th>\n",
       "      <th>Trip_distance</th>\n",
       "      <th>date</th>\n",
       "      <th>Time</th>\n",
       "    </tr>\n",
       "  </thead>\n",
       "  <tbody>\n",
       "    <tr>\n",
       "      <th>0</th>\n",
       "      <td>000V4BQX</td>\n",
       "      <td>2019-12-21 07:52:00</td>\n",
       "      <td>2.981</td>\n",
       "      <td>36.688</td>\n",
       "      <td>2.978</td>\n",
       "      <td>36.754</td>\n",
       "      <td>17549</td>\n",
       "      <td>2019/12/21</td>\n",
       "      <td>28320</td>\n",
       "    </tr>\n",
       "    <tr>\n",
       "      <th>1</th>\n",
       "      <td>003WBC5J</td>\n",
       "      <td>2019-12-25 23:38:00</td>\n",
       "      <td>3.032</td>\n",
       "      <td>36.769</td>\n",
       "      <td>3.074</td>\n",
       "      <td>36.751</td>\n",
       "      <td>7532</td>\n",
       "      <td>2019/12/25</td>\n",
       "      <td>85080</td>\n",
       "    </tr>\n",
       "    <tr>\n",
       "      <th>2</th>\n",
       "      <td>004O4X3A</td>\n",
       "      <td>2019-12-29 23:30:00</td>\n",
       "      <td>3.035</td>\n",
       "      <td>36.711</td>\n",
       "      <td>3.010</td>\n",
       "      <td>36.758</td>\n",
       "      <td>10194</td>\n",
       "      <td>2019/12/29</td>\n",
       "      <td>84600</td>\n",
       "    </tr>\n",
       "    <tr>\n",
       "      <th>3</th>\n",
       "      <td>006CEI5B</td>\n",
       "      <td>2020-01-01 00:51:00</td>\n",
       "      <td>2.902</td>\n",
       "      <td>36.738</td>\n",
       "      <td>3.208</td>\n",
       "      <td>36.698</td>\n",
       "      <td>32768</td>\n",
       "      <td>2020/01/01</td>\n",
       "      <td>3060</td>\n",
       "    </tr>\n",
       "    <tr>\n",
       "      <th>4</th>\n",
       "      <td>009G0M2T</td>\n",
       "      <td>2019-12-28 23:47:00</td>\n",
       "      <td>2.860</td>\n",
       "      <td>36.692</td>\n",
       "      <td>2.828</td>\n",
       "      <td>36.696</td>\n",
       "      <td>4513</td>\n",
       "      <td>2019/12/28</td>\n",
       "      <td>85620</td>\n",
       "    </tr>\n",
       "  </tbody>\n",
       "</table>\n",
       "</div>"
      ],
      "text/plain": [
       "         ID           Timestamp  Origin_lat  Origin_lon  Destination_lat  \\\n",
       "0  000V4BQX 2019-12-21 07:52:00       2.981      36.688            2.978   \n",
       "1  003WBC5J 2019-12-25 23:38:00       3.032      36.769            3.074   \n",
       "2  004O4X3A 2019-12-29 23:30:00       3.035      36.711            3.010   \n",
       "3  006CEI5B 2020-01-01 00:51:00       2.902      36.738            3.208   \n",
       "4  009G0M2T 2019-12-28 23:47:00       2.860      36.692            2.828   \n",
       "\n",
       "   Destination_lon  Trip_distance        date   Time  \n",
       "0           36.754          17549  2019/12/21  28320  \n",
       "1           36.751           7532  2019/12/25  85080  \n",
       "2           36.758          10194  2019/12/29  84600  \n",
       "3           36.698          32768  2020/01/01   3060  \n",
       "4           36.696           4513  2019/12/28  85620  "
      ]
     },
     "execution_count": 169,
     "metadata": {},
     "output_type": "execute_result"
    }
   ],
   "source": [
    "testing1.head()"
   ]
  },
  {
   "cell_type": "code",
   "execution_count": 171,
   "metadata": {},
   "outputs": [],
   "source": [
    "test_merge =  pd.merge(testing1, weather, on='date', how='outer')"
   ]
  },
  {
   "cell_type": "code",
   "execution_count": 172,
   "metadata": {},
   "outputs": [
    {
     "data": {
      "text/html": [
       "<div>\n",
       "<style scoped>\n",
       "    .dataframe tbody tr th:only-of-type {\n",
       "        vertical-align: middle;\n",
       "    }\n",
       "\n",
       "    .dataframe tbody tr th {\n",
       "        vertical-align: top;\n",
       "    }\n",
       "\n",
       "    .dataframe thead th {\n",
       "        text-align: right;\n",
       "    }\n",
       "</style>\n",
       "<table border=\"1\" class=\"dataframe\">\n",
       "  <thead>\n",
       "    <tr style=\"text-align: right;\">\n",
       "      <th></th>\n",
       "      <th>ID</th>\n",
       "      <th>Timestamp</th>\n",
       "      <th>Origin_lat</th>\n",
       "      <th>Origin_lon</th>\n",
       "      <th>Destination_lat</th>\n",
       "      <th>Destination_lon</th>\n",
       "      <th>Trip_distance</th>\n",
       "      <th>date</th>\n",
       "      <th>Time</th>\n",
       "      <th>dewpoint_2m_temperature</th>\n",
       "      <th>maximum_2m_air_temperature</th>\n",
       "      <th>mean_2m_air_temperature</th>\n",
       "      <th>mean_sea_level_pressure</th>\n",
       "      <th>minimum_2m_air_temperature</th>\n",
       "      <th>surface_pressure</th>\n",
       "      <th>total_precipitation</th>\n",
       "      <th>u_component_of_wind_10m</th>\n",
       "      <th>v_component_of_wind_10m</th>\n",
       "    </tr>\n",
       "  </thead>\n",
       "  <tbody>\n",
       "    <tr>\n",
       "      <th>0</th>\n",
       "      <td>000V4BQX</td>\n",
       "      <td>2019-12-21 07:52:00</td>\n",
       "      <td>2.981</td>\n",
       "      <td>36.688</td>\n",
       "      <td>2.978</td>\n",
       "      <td>36.754</td>\n",
       "      <td>17549.0</td>\n",
       "      <td>2019/12/21</td>\n",
       "      <td>28320.0</td>\n",
       "      <td>NaN</td>\n",
       "      <td>NaN</td>\n",
       "      <td>NaN</td>\n",
       "      <td>NaN</td>\n",
       "      <td>NaN</td>\n",
       "      <td>NaN</td>\n",
       "      <td>NaN</td>\n",
       "      <td>NaN</td>\n",
       "      <td>NaN</td>\n",
       "    </tr>\n",
       "    <tr>\n",
       "      <th>1</th>\n",
       "      <td>00BRKED8</td>\n",
       "      <td>2019-12-21 22:06:00</td>\n",
       "      <td>3.013</td>\n",
       "      <td>36.762</td>\n",
       "      <td>3.082</td>\n",
       "      <td>36.727</td>\n",
       "      <td>9878.0</td>\n",
       "      <td>2019/12/21</td>\n",
       "      <td>79560.0</td>\n",
       "      <td>NaN</td>\n",
       "      <td>NaN</td>\n",
       "      <td>NaN</td>\n",
       "      <td>NaN</td>\n",
       "      <td>NaN</td>\n",
       "      <td>NaN</td>\n",
       "      <td>NaN</td>\n",
       "      <td>NaN</td>\n",
       "      <td>NaN</td>\n",
       "    </tr>\n",
       "    <tr>\n",
       "      <th>2</th>\n",
       "      <td>00HS3XXF</td>\n",
       "      <td>2019-12-21 00:24:00</td>\n",
       "      <td>3.099</td>\n",
       "      <td>36.744</td>\n",
       "      <td>3.099</td>\n",
       "      <td>36.742</td>\n",
       "      <td>4002.0</td>\n",
       "      <td>2019/12/21</td>\n",
       "      <td>1440.0</td>\n",
       "      <td>NaN</td>\n",
       "      <td>NaN</td>\n",
       "      <td>NaN</td>\n",
       "      <td>NaN</td>\n",
       "      <td>NaN</td>\n",
       "      <td>NaN</td>\n",
       "      <td>NaN</td>\n",
       "      <td>NaN</td>\n",
       "      <td>NaN</td>\n",
       "    </tr>\n",
       "    <tr>\n",
       "      <th>3</th>\n",
       "      <td>00WNC10D</td>\n",
       "      <td>2019-12-21 07:51:00</td>\n",
       "      <td>3.248</td>\n",
       "      <td>36.783</td>\n",
       "      <td>3.059</td>\n",
       "      <td>36.785</td>\n",
       "      <td>25461.0</td>\n",
       "      <td>2019/12/21</td>\n",
       "      <td>28260.0</td>\n",
       "      <td>NaN</td>\n",
       "      <td>NaN</td>\n",
       "      <td>NaN</td>\n",
       "      <td>NaN</td>\n",
       "      <td>NaN</td>\n",
       "      <td>NaN</td>\n",
       "      <td>NaN</td>\n",
       "      <td>NaN</td>\n",
       "      <td>NaN</td>\n",
       "    </tr>\n",
       "    <tr>\n",
       "      <th>4</th>\n",
       "      <td>01OZ7SN8</td>\n",
       "      <td>2019-12-21 22:41:00</td>\n",
       "      <td>3.059</td>\n",
       "      <td>36.756</td>\n",
       "      <td>3.102</td>\n",
       "      <td>36.726</td>\n",
       "      <td>10323.0</td>\n",
       "      <td>2019/12/21</td>\n",
       "      <td>81660.0</td>\n",
       "      <td>NaN</td>\n",
       "      <td>NaN</td>\n",
       "      <td>NaN</td>\n",
       "      <td>NaN</td>\n",
       "      <td>NaN</td>\n",
       "      <td>NaN</td>\n",
       "      <td>NaN</td>\n",
       "      <td>NaN</td>\n",
       "      <td>NaN</td>\n",
       "    </tr>\n",
       "  </tbody>\n",
       "</table>\n",
       "</div>"
      ],
      "text/plain": [
       "         ID           Timestamp  Origin_lat  Origin_lon  Destination_lat  \\\n",
       "0  000V4BQX 2019-12-21 07:52:00       2.981      36.688            2.978   \n",
       "1  00BRKED8 2019-12-21 22:06:00       3.013      36.762            3.082   \n",
       "2  00HS3XXF 2019-12-21 00:24:00       3.099      36.744            3.099   \n",
       "3  00WNC10D 2019-12-21 07:51:00       3.248      36.783            3.059   \n",
       "4  01OZ7SN8 2019-12-21 22:41:00       3.059      36.756            3.102   \n",
       "\n",
       "   Destination_lon  Trip_distance        date     Time  \\\n",
       "0           36.754        17549.0  2019/12/21  28320.0   \n",
       "1           36.727         9878.0  2019/12/21  79560.0   \n",
       "2           36.742         4002.0  2019/12/21   1440.0   \n",
       "3           36.785        25461.0  2019/12/21  28260.0   \n",
       "4           36.726        10323.0  2019/12/21  81660.0   \n",
       "\n",
       "   dewpoint_2m_temperature  maximum_2m_air_temperature  \\\n",
       "0                      NaN                         NaN   \n",
       "1                      NaN                         NaN   \n",
       "2                      NaN                         NaN   \n",
       "3                      NaN                         NaN   \n",
       "4                      NaN                         NaN   \n",
       "\n",
       "   mean_2m_air_temperature  mean_sea_level_pressure  \\\n",
       "0                      NaN                      NaN   \n",
       "1                      NaN                      NaN   \n",
       "2                      NaN                      NaN   \n",
       "3                      NaN                      NaN   \n",
       "4                      NaN                      NaN   \n",
       "\n",
       "   minimum_2m_air_temperature  surface_pressure  total_precipitation  \\\n",
       "0                         NaN               NaN                  NaN   \n",
       "1                         NaN               NaN                  NaN   \n",
       "2                         NaN               NaN                  NaN   \n",
       "3                         NaN               NaN                  NaN   \n",
       "4                         NaN               NaN                  NaN   \n",
       "\n",
       "   u_component_of_wind_10m  v_component_of_wind_10m  \n",
       "0                      NaN                      NaN  \n",
       "1                      NaN                      NaN  \n",
       "2                      NaN                      NaN  \n",
       "3                      NaN                      NaN  \n",
       "4                      NaN                      NaN  "
      ]
     },
     "execution_count": 172,
     "metadata": {},
     "output_type": "execute_result"
    }
   ],
   "source": [
    "test_merge.head()"
   ]
  },
  {
   "cell_type": "code",
   "execution_count": 39,
   "metadata": {},
   "outputs": [],
   "source": [
    "test_new = test_merge.drop(['Timestamp', 'date'], 1)"
   ]
  },
  {
   "cell_type": "markdown",
   "metadata": {},
   "source": [
    "////////////////////////////////////////////////////////////////////////////////////////////////////////////////////////////////////////////////////////////////////////////////////////////////////////////////////////////////////////////////////////////"
   ]
  },
  {
   "cell_type": "markdown",
   "metadata": {},
   "source": [
    "# Re-fitting model with the merge dataframe\n"
   ]
  },
  {
   "cell_type": "code",
   "execution_count": null,
   "metadata": {},
   "outputs": [],
   "source": [
    "train_merge.columns"
   ]
  },
  {
   "cell_type": "code",
   "execution_count": null,
   "metadata": {},
   "outputs": [],
   "source": [
    "# Get the data\n",
    "from sklearn.model_selection import train_test_split\n",
    "y = train_merge['ETA']\n",
    "X = train_merge[[ 'Origin_lat', 'Origin_lon', 'Destination_lat',\n",
    "       'Destination_lon', 'Trip_distance',\n",
    "       'dewpoint_2m_temperature', 'maximum_2m_air_temperature',\n",
    "       'mean_2m_air_temperature', 'mean_sea_level_pressure',\n",
    "       'minimum_2m_air_temperature', 'surface_pressure', 'total_precipitation',\n",
    "       'u_component_of_wind_10m', 'v_component_of_wind_10m', 'Time']]\n",
    "\n",
    "X_train, X_test, y_train, y_test = train_test_split(X,y,test_size=0.3, random_state=42)\n"
   ]
  },
  {
   "cell_type": "markdown",
   "metadata": {},
   "source": [
    "//////////////////////////////////////////////////////////////////////////////////////////////////////////////////////////////////////////////////////////////////////////////////////////////////////////////////////////////////////////////////////////////"
   ]
  },
  {
   "cell_type": "code",
   "execution_count": null,
   "metadata": {},
   "outputs": [],
   "source": [
    "params={\n",
    " \"learning_rate\"    : [0.05, 0.10, 0.15, 0.20, 0.25, 0.30,0.40] ,\n",
    " \"max_depth\"        : [ 3, 4, 5, 6, 8, 10, 12, 15,20,30,40,50],\n",
    " \"min_child_weight\" : [ 1, 3, 5, 7 ,9,10,11,12],\n",
    " \"gamma\"            : [ 0.0, 0.1, 0.2 , 0.3, 0.4,1,1.5,2],\n",
    " \"colsample_bytree\" : [ 0.1,0.2,0.3, 0.4, 0.5 , 0.7,0.8,0.9]\n",
    " \n",
    "    \n",
    "}"
   ]
  },
  {
   "cell_type": "code",
   "execution_count": null,
   "metadata": {},
   "outputs": [],
   "source": [
    "## Hyperparameter optimization using RandomizedSearchCV\n",
    "from sklearn.model_selection import RandomizedSearchCV, GridSearchCV\n",
    "import xgboost as xgb\n",
    "import xgboost\n",
    "boost = xgb.XGBRegressor()"
   ]
  },
  {
   "cell_type": "code",
   "execution_count": null,
   "metadata": {},
   "outputs": [],
   "source": [
    "random_search=RandomizedSearchCV(boost,param_distributions=params,n_iter=5,n_jobs=-1,cv=5,verbose=3)"
   ]
  },
  {
   "cell_type": "code",
   "execution_count": null,
   "metadata": {},
   "outputs": [],
   "source": [
    "random_search.fit(X_train,y_train)"
   ]
  },
  {
   "cell_type": "code",
   "execution_count": null,
   "metadata": {},
   "outputs": [],
   "source": [
    "random_search.best_estimator_"
   ]
  },
  {
   "cell_type": "code",
   "execution_count": null,
   "metadata": {},
   "outputs": [],
   "source": []
  },
  {
   "cell_type": "code",
   "execution_count": null,
   "metadata": {},
   "outputs": [],
   "source": [
    "import xgboost as xgb\n",
    "from tqdm import tqdm\n",
    "boost = xgb.XGBRegressor()\n",
    "##Fitting the model with train dataset\n",
    "boost = boost.fit(X_train, y_train)"
   ]
  },
  {
   "cell_type": "code",
   "execution_count": null,
   "metadata": {},
   "outputs": [],
   "source": [
    "# Getting predicions from the X_test\n",
    "pred0 = boost.predict(X_test)\n",
    "#checking score\n",
    "from sklearn.metrics import mean_squared_error\n",
    "mean_squared_error(y_test, pred0, squared=False)"
   ]
  },
  {
   "cell_type": "code",
   "execution_count": null,
   "metadata": {},
   "outputs": [],
   "source": [
    "# run test data through\n",
    "submission2 = test_new.copy()\n",
    "submission2['ETA'] = boost.predict(test_new)\n",
    "submission2.head()"
   ]
  },
  {
   "cell_type": "code",
   "execution_count": null,
   "metadata": {},
   "outputs": [],
   "source": [
    "# save\n",
    "submission2[['ETA']].to_csv('merge_submmision.csv')"
   ]
  },
  {
   "cell_type": "markdown",
   "metadata": {},
   "source": [
    "# LlNEAR REGRESSION"
   ]
  },
  {
   "cell_type": "code",
   "execution_count": null,
   "metadata": {},
   "outputs": [],
   "source": [
    "# Fit model\n",
    "lm_reg = LinearRegression()\n",
    "##Fitting the model with train dataset\n",
    "lm_reg.fit(X_train, y_train)\n"
   ]
  },
  {
   "cell_type": "code",
   "execution_count": null,
   "metadata": {},
   "outputs": [],
   "source": [
    "# Getting predicions from the X_test\n",
    "pred = lm_reg.predict(X_test)\n",
    "#checking score\n",
    "from sklearn.metrics import mean_squared_error\n",
    "mean_squared_error(y_test, pred, squared=False)"
   ]
  },
  {
   "cell_type": "code",
   "execution_count": null,
   "metadata": {},
   "outputs": [],
   "source": [
    "from sklearn.svm import SVC\n",
    "LinearSVC = SVC(kernel=\"linear\", C = 1)\n",
    "##Fitting the model with train dataset\n",
    "LinearSVC = LinearSVC.fit(X_train, y_train)"
   ]
  },
  {
   "cell_type": "code",
   "execution_count": null,
   "metadata": {},
   "outputs": [],
   "source": [
    "# Getting predicions from the X_test\n",
    "pred1 = LinearSVC.predict(X_test)\n",
    "#checking score\n",
    "mean_squared_error(y_test, pred1, squared=False)"
   ]
  }
 ],
 "metadata": {
  "kernelspec": {
   "display_name": "Python 3",
   "language": "python",
   "name": "python3"
  },
  "language_info": {
   "codemirror_mode": {
    "name": "ipython",
    "version": 3
   },
   "file_extension": ".py",
   "mimetype": "text/x-python",
   "name": "python",
   "nbconvert_exporter": "python",
   "pygments_lexer": "ipython3",
   "version": "3.7.6"
  }
 },
 "nbformat": 4,
 "nbformat_minor": 4
}
